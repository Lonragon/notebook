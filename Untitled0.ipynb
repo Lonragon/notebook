{
  "nbformat": 4,
  "nbformat_minor": 0,
  "metadata": {
    "colab": {
      "name": "Untitled0.ipynb",
      "version": "0.3.2",
      "provenance": [],
      "collapsed_sections": [],
      "include_colab_link": true
    },
    "kernelspec": {
      "name": "python3",
      "display_name": "Python 3"
    }
  },
  "cells": [
    {
      "cell_type": "markdown",
      "metadata": {
        "id": "view-in-github",
        "colab_type": "text"
      },
      "source": [
        "<a href=\"https://colab.research.google.com/github/Lonragon/notebook/blob/master/Untitled0.ipynb\" target=\"_parent\"><img src=\"https://colab.research.google.com/assets/colab-badge.svg\" alt=\"Open In Colab\"/></a>"
      ]
    },
    {
      "cell_type": "code",
      "metadata": {
        "id": "3Bw9v8g0EcQv",
        "colab_type": "code",
        "colab": {
          "base_uri": "https://localhost:8080/",
          "height": 34
        },
        "outputId": "c2c4cd1f-c7ce-47ef-cd6b-ca6dd424828e"
      },
      "source": [
        "# 列表(lists)是python中的对象，可以包含有序的数字序列和字符串\n",
        "list_x=[3,'hello',1]\n",
        "print(\"list_x[1]: \", list_x[1])"
      ],
      "execution_count": 3,
      "outputs": [
        {
          "output_type": "stream",
          "text": [
            "list_x[1]:  hello\n"
          ],
          "name": "stdout"
        }
      ]
    },
    {
      "cell_type": "code",
      "metadata": {
        "id": "MaNcg9AGFio4",
        "colab_type": "code",
        "colab": {
          "base_uri": "https://localhost:8080/",
          "height": 34
        },
        "outputId": "854fbfa9-9ef9-460d-d638-db55c522aa2d"
      },
      "source": [
        "len(list_x)"
      ],
      "execution_count": 4,
      "outputs": [
        {
          "output_type": "execute_result",
          "data": {
            "text/plain": [
              "3"
            ]
          },
          "metadata": {
            "tags": []
          },
          "execution_count": 4
        }
      ]
    },
    {
      "cell_type": "code",
      "metadata": {
        "id": "V6xTyrmYXiAs",
        "colab_type": "code",
        "colab": {
          "base_uri": "https://localhost:8080/",
          "height": 34
        },
        "outputId": "9a65f741-3b7b-4ea1-f425-5f0bb34a7706"
      },
      "source": [
        "#替换列表元素\n",
        "list_x[1]='hi'\n",
        "print(list_x)"
      ],
      "execution_count": 5,
      "outputs": [
        {
          "output_type": "stream",
          "text": [
            "[3, 'hi', 1]\n"
          ],
          "name": "stdout"
        }
      ]
    },
    {
      "cell_type": "code",
      "metadata": {
        "id": "9PvsmEjuX8iz",
        "colab_type": "code",
        "colab": {
          "base_uri": "https://localhost:8080/",
          "height": 34
        },
        "outputId": "166b76df-66f3-46df-ad0c-44c0675a21a4"
      },
      "source": [
        "# 元组(tuples)也是python中可以保存数据但是不能替换值的对象（元组不可变，列表可变）\n",
        "tuple_x=(3.0,\"hello\")\n",
        "print(tuple_x)"
      ],
      "execution_count": 1,
      "outputs": [
        {
          "output_type": "stream",
          "text": [
            "(3.0, 'hello')\n"
          ],
          "name": "stdout"
        }
      ]
    },
    {
      "cell_type": "code",
      "metadata": {
        "id": "Lgpx40uWCGwD",
        "colab_type": "code",
        "colab": {
          "base_uri": "https://localhost:8080/",
          "height": 34
        },
        "outputId": "28c2f113-3128-4b1d-9417-9ae0c24f1f6d"
      },
      "source": [
        "#字典 (dictionaries)是包含键值对(key_value)的python对象。字典不能有两个相同的键。\n",
        "#创建字典\n",
        "goku={\"name\": \"Goku\",\n",
        "     \"eye_color\": \"brown\"}\n",
        "goku[\"eye_color\"]=\"green\"\n",
        "goku[\"age\"]=24\n",
        "print(goku)"
      ],
      "execution_count": 2,
      "outputs": [
        {
          "output_type": "stream",
          "text": [
            "{'name': 'Goku', 'eye_color': 'green', 'age': 24}\n"
          ],
          "name": "stdout"
        }
      ]
    },
    {
      "cell_type": "code",
      "metadata": {
        "id": "Z4_55d1EEB-S",
        "colab_type": "code",
        "colab": {}
      },
      "source": [
        ""
      ],
      "execution_count": 0,
      "outputs": []
    }
  ]
}